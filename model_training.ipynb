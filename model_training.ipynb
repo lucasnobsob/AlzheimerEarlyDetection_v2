{
 "cells": [
  {
   "cell_type": "code",
   "execution_count": 32,
   "metadata": {},
   "outputs": [
    {
     "name": "stdout",
     "output_type": "stream",
     "text": [
      "True\n",
      "NVIDIA GeForce RTX 3050\n"
     ]
    }
   ],
   "source": [
    "import torch\n",
    "print(torch.cuda.is_available())  # Should return True\n",
    "print(torch.cuda.get_device_name(0))  # Prints your GPU name"
   ]
  },
  {
   "cell_type": "code",
   "execution_count": null,
   "metadata": {},
   "outputs": [
    {
     "name": "stdout",
     "output_type": "stream",
     "text": [
      "Total samples in dataset: 474\n"
     ]
    }
   ],
   "source": [
    "import os\n",
    "import pydicom\n",
    "from torchvision import transforms\n",
    "from torch.utils.data import Dataset, DataLoader\n",
    "\n",
    "# Function to load DICOM data and extract metadata\n",
    "def load_dicom_data(folder_path):\n",
    "    data = []\n",
    "    for root, _, files in os.walk(folder_path):\n",
    "        for file in files:\n",
    "            if file.endswith(\".dcm\"):\n",
    "                dicom_path = os.path.join(root, file)\n",
    "                dicom_data = pydicom.dcmread(dicom_path)\n",
    "                image = dicom_data.pixel_array  # Extract image data\n",
    "                age_str = dicom_data.PatientBirthDate  # Extract age in 'yyyymmdd' format\n",
    "                age = convert_age(age_str)  # Convert age to years\n",
    "                label = assign_label(root)  # Assign label based on folder\n",
    "                data.append({\"Image\": image, \"Age\": age, \"Label\": label})\n",
    "    return data\n",
    "\n",
    "# Function to convert age from 'yyyymmdd' to years\n",
    "def convert_age(age_str):\n",
    "    birth_year = int(age_str[:4])\n",
    "    birth_month = int(age_str[4:6])\n",
    "    birth_day = int(age_str[6:8])\n",
    "    # Calculate age (approximate)\n",
    "    current_year, current_month, current_day = 2023, 10, 1  # Update to current date\n",
    "    age = current_year - birth_year\n",
    "    if (current_month, current_day) < (birth_month, birth_day):\n",
    "        age -= 1\n",
    "    return age\n",
    "\n",
    "# Function to assign labels based on folder name\n",
    "def assign_label(folder_path):\n",
    "    if \"AD\" in folder_path:\n",
    "        return 0  # AD\n",
    "    elif \"MCI\" in folder_path:\n",
    "        return 1  # MCI\n",
    "    elif \"NC\" in folder_path:\n",
    "        return 2  # NC\n",
    "    else:\n",
    "        raise ValueError(f\"Unknown folder: {folder_path}\")\n",
    "\n",
    "# Load data from all folders\n",
    "ad_folder = \"D:\\\\Projetos\\\\AlzheimerEarlyDetection_v2\\\\MRI_images\\\\AD\"\n",
    "mci_folder = \"D:\\\\Projetos\\\\AlzheimerEarlyDetection_v2\\\\MRI_images\\\\MCI\"\n",
    "nc_folder = \"D:\\\\Projetos\\\\AlzheimerEarlyDetection_v2\\\\MRI_images\\\\NC\"\n",
    "\n",
    "ad_data = load_dicom_data(ad_folder)\n",
    "mci_data = load_dicom_data(mci_folder)\n",
    "nc_data = load_dicom_data(nc_folder)\n",
    "\n",
    "# Combine all data\n",
    "data = ad_data + mci_data + nc_data\n",
    "\n",
    "print(f\"Total samples in dataset: {len(data)}\")"
   ]
  },
  {
   "cell_type": "code",
   "execution_count": 34,
   "metadata": {},
   "outputs": [],
   "source": [
    "def extract_metadata(dicom_data):\n",
    "    metadata = {\n",
    "        \"PatientBirthDate\": dicom_data.PatientBirthDate,\n",
    "        \"PatientID\": dicom_data.PatientID,\n",
    "        \"Image\": dicom_data.pixel_array  # Extract the image data\n",
    "    }\n",
    "    return metadata"
   ]
  },
  {
   "cell_type": "code",
   "execution_count": 35,
   "metadata": {},
   "outputs": [],
   "source": [
    "def convert_age(age_str):\n",
    "    birth_year = int(age_str[:4])\n",
    "    birth_month = int(age_str[4:6])\n",
    "    birth_day = int(age_str[6:8])\n",
    "    # Calculate age (approximate)\n",
    "    current_year, current_month, current_day = 2023, 10, 1  # Update to current date\n",
    "    age = current_year - birth_year\n",
    "    if (current_month, current_day) < (birth_month, birth_day):\n",
    "        age -= 1\n",
    "    return age"
   ]
  },
  {
   "cell_type": "code",
   "execution_count": 36,
   "metadata": {},
   "outputs": [],
   "source": [
    "import torch, numpy as np\n",
    "\n",
    "def normalize_uint16_to_float32(image):\n",
    "    # Verifica se é um tensor do PyTorch\n",
    "    if isinstance(image, torch.Tensor):\n",
    "        image = image.to(torch.float32) / 65535.0\n",
    "    else:  # Caso contrário, assume que é um array NumPy\n",
    "        image = image.astype(np.float32) / 65535.0\n",
    "    return image\n"
   ]
  },
  {
   "cell_type": "code",
   "execution_count": 37,
   "metadata": {},
   "outputs": [],
   "source": [
    "def convert_uint16_to_uint8(image):\n",
    "    # Scale to [0, 255] range\n",
    "    image = (image / 256).astype(np.uint8)\n",
    "    return image"
   ]
  },
  {
   "cell_type": "code",
   "execution_count": 38,
   "metadata": {},
   "outputs": [],
   "source": [
    "from torch.utils.data import Dataset\n",
    "\n",
    "class AlzheimerDataset(Dataset):\n",
    "    def __init__(self, data, transform=None):\n",
    "        self.data = data\n",
    "        self.transform = transform\n",
    "\n",
    "    def __len__(self):\n",
    "        return len(self.data)\n",
    "\n",
    "    def __getitem__(self, idx):\n",
    "        image = self.data[idx][\"Image\"]\n",
    "        label = self.data[idx][\"Label\"]\n",
    "        age = self.data[idx][\"Age\"]\n",
    "        \n",
    "        # Normalize the image tensor\n",
    "        image = normalize_uint16_to_float32(image)\n",
    "        \n",
    "        if self.transform:\n",
    "            image = self.transform(image)\n",
    "        \n",
    "\n",
    "        return image, label, age"
   ]
  },
  {
   "cell_type": "code",
   "execution_count": 39,
   "metadata": {},
   "outputs": [],
   "source": [
    "def assign_label(folder_name):\n",
    "    if \"AD\" in folder_name:\n",
    "        return 0\n",
    "    elif \"MCI\" in folder_name:\n",
    "        return 1\n",
    "    elif \"NC\" in folder_name:\n",
    "        return 2"
   ]
  },
  {
   "cell_type": "code",
   "execution_count": 40,
   "metadata": {},
   "outputs": [
    {
     "name": "stdout",
     "output_type": "stream",
     "text": [
      "Images shape: torch.Size([32, 1, 256, 256])\n",
      "Labels: tensor([1, 0, 1, 1, 1, 1, 1, 2, 1, 0, 0, 0, 1, 0, 1, 1, 2, 1, 2, 0, 0, 1, 2, 2,\n",
      "        0, 1, 1, 2, 0, 2, 0, 1])\n",
      "Ages: tensor([78, 87, 60, 74, 74, 60, 78, 60, 73, 83, 80, 80, 80, 80, 67, 60, 61, 75,\n",
      "        63, 80, 89, 66, 61, 57, 93, 67, 79, 61, 83, 63, 96, 67])\n"
     ]
    }
   ],
   "source": [
    "from torchvision import transforms\n",
    "\n",
    "transform = transforms.Compose([\n",
    "    transforms.ToPILImage(),  # Convert numpy array to PIL image\n",
    "    transforms.Resize((256, 256)),  # Resize to a fixed size\n",
    "    transforms.RandomHorizontalFlip(),\n",
    "    transforms.RandomRotation(10),\n",
    "    transforms.ToTensor(),  # Convert PIL image to tensor\n",
    "    transforms.Normalize(mean=[0.5], std=[0.5])  # Normalize tensor\n",
    "])\n",
    "\n",
    "# Create dataset and dataloader\n",
    "dataset = AlzheimerDataset(data, transform=transform)\n",
    "dataloader = DataLoader(dataset, batch_size=32, shuffle=True)\n",
    "\n",
    "# Test one batch\n",
    "for images, labels, ages in dataloader:\n",
    "    print(\"Images shape:\", images.shape)  # Should be [batch_size, channels, height, width]\n",
    "    print(\"Labels:\", labels)\n",
    "    print(\"Ages:\", ages)\n",
    "    break"
   ]
  },
  {
   "cell_type": "code",
   "execution_count": 41,
   "metadata": {},
   "outputs": [],
   "source": [
    "import torch.nn as nn\n",
    "import torch.nn.functional as F\n",
    "\n",
    "class AlzheimerDataset(Dataset):\n",
    "    def __init__(self, data, transform=None):\n",
    "        self.data = data\n",
    "        self.transform = transform\n",
    "\n",
    "    def __len__(self):\n",
    "        return len(self.data)\n",
    "\n",
    "    def __getitem__(self, idx):\n",
    "        image = self.data[idx][\"Image\"]\n",
    "        label = self.data[idx][\"Label\"]\n",
    "        age = self.data[idx][\"Age\"]\n",
    "\n",
    "        # Convert uint16 to float32 or uint8\n",
    "        image = normalize_uint16_to_float32(image)  # Use Option 1 or Option 2\n",
    "\n",
    "        if self.transform:\n",
    "            image = self.transform(image)\n",
    "\n",
    "        return image, label, age"
   ]
  },
  {
   "cell_type": "code",
   "execution_count": 42,
   "metadata": {},
   "outputs": [],
   "source": [
    "import torch.nn as nn\n",
    "import torch.nn.functional as F\n",
    "\n",
    "class AlzheimerCNN(nn.Module):\n",
    "    def __init__(self):\n",
    "        super(AlzheimerCNN, self).__init__()\n",
    "        self.conv1 = nn.Conv2d(1, 32, kernel_size=3, stride=1, padding=1)\n",
    "        self.conv2 = nn.Conv2d(32, 64, kernel_size=3, stride=1, padding=1)\n",
    "        self.fc1 = nn.Linear(64 * 64 * 64, 128)  # Adjust based on image size\n",
    "        self.fc2 = nn.Linear(128, 3)  # 3 classes: AD, MCI, NC\n",
    "\n",
    "    def forward(self, x):\n",
    "        x = F.relu(self.conv1(x))\n",
    "        x = F.max_pool2d(x, 2)\n",
    "        x = F.relu(self.conv2(x))\n",
    "        x = F.max_pool2d(x, 2)\n",
    "        x = x.view(x.size(0), -1)\n",
    "        x = F.relu(self.fc1(x))\n",
    "        x = self.fc2(x)\n",
    "        return x"
   ]
  },
  {
   "cell_type": "code",
   "execution_count": 43,
   "metadata": {},
   "outputs": [],
   "source": [
    "from torch.utils.data import DataLoader\n",
    "\n",
    "dataset = AlzheimerDataset(data, transform=transform)\n",
    "dataloader = DataLoader(dataset, batch_size=32, shuffle=True)"
   ]
  },
  {
   "cell_type": "code",
   "execution_count": 44,
   "metadata": {},
   "outputs": [],
   "source": [
    "# device = torch.device(\"cuda\" if torch.cuda.is_available() else \"cpu\")\n",
    "# model = AlzheimerCNN().to(device)\n",
    "# criterion = nn.CrossEntropyLoss()\n",
    "# optimizer = torch.optim.Adam(model.parameters(), lr=0.001)\n",
    "\n",
    "# for epoch in range(70):  # Number of epochs\n",
    "#     for images, labels, _ in dataloader:\n",
    "#         images, labels = images.to(device), labels.to(device)\n",
    "#         outputs = model(images)\n",
    "#         loss = criterion(outputs, labels)\n",
    "#         optimizer.zero_grad()\n",
    "#         loss.backward()\n",
    "#         optimizer.step()\n",
    "#     print(f\"Epoch {epoch+1}, Loss: {loss.item()}\")"
   ]
  },
  {
   "cell_type": "code",
   "execution_count": 45,
   "metadata": {},
   "outputs": [],
   "source": [
    "from torch.utils.data import random_split\n",
    "\n",
    "# Assuming `dataset` is your full dataset\n",
    "train_size = int(0.8 * len(dataset))  # 80% for training\n",
    "val_size = len(dataset) - train_size  # 20% for validation\n",
    "train_dataset, val_dataset = random_split(dataset, [train_size, val_size])\n",
    "\n",
    "# Create DataLoaders for training and validation\n",
    "train_dataloader = DataLoader(train_dataset, batch_size=32, shuffle=True)\n",
    "val_dataloader = DataLoader(val_dataset, batch_size=32, shuffle=False)"
   ]
  },
  {
   "cell_type": "code",
   "execution_count": 46,
   "metadata": {},
   "outputs": [
    {
     "name": "stdout",
     "output_type": "stream",
     "text": [
      "Epoch 1, Loss: 6.051462451616923, Accuracy: 0.41561181434599154, Learning Rate: 0.001\n",
      "Validation Accuracy: 0.47368421052631576\n",
      "Epoch 2, Loss: 1.0733772317568462, Accuracy: 0.4240506329113924, Learning Rate: 0.001\n",
      "Validation Accuracy: 0.47368421052631576\n",
      "Epoch 3, Loss: 1.0239996631940207, Accuracy: 0.4282700421940928, Learning Rate: 0.001\n",
      "Validation Accuracy: 0.47368421052631576\n",
      "Epoch 4, Loss: 1.0268725434939066, Accuracy: 0.3860759493670886, Learning Rate: 0.001\n",
      "Validation Accuracy: 0.35789473684210527\n",
      "Epoch 5, Loss: 1.0249123771985371, Accuracy: 0.39662447257383965, Learning Rate: 0.001\n",
      "Validation Accuracy: 0.47368421052631576\n",
      "Epoch 6, Loss: 1.0264973322550455, Accuracy: 0.43037974683544306, Learning Rate: 0.001\n",
      "Validation Accuracy: 0.47368421052631576\n",
      "Epoch 7, Loss: 1.0223925789197286, Accuracy: 0.43037974683544306, Learning Rate: 0.001\n",
      "Validation Accuracy: 0.47368421052631576\n",
      "Epoch 8, Loss: 1.0206835627555848, Accuracy: 0.43670886075949367, Learning Rate: 0.001\n",
      "Validation Accuracy: 0.47368421052631576\n",
      "Epoch 9, Loss: 1.0189773162206015, Accuracy: 0.43037974683544306, Learning Rate: 0.001\n",
      "Validation Accuracy: 0.47368421052631576\n",
      "Epoch 10, Loss: 1.0171314001083374, Accuracy: 0.37763713080168776, Learning Rate: 0.001\n",
      "Validation Accuracy: 0.35789473684210527\n",
      "Epoch 11, Loss: 1.0187487959861756, Accuracy: 0.41983122362869196, Learning Rate: 0.001\n",
      "Validation Accuracy: 0.47368421052631576\n",
      "Epoch 12, Loss: 1.0178345322608948, Accuracy: 0.43037974683544306, Learning Rate: 0.001\n",
      "Validation Accuracy: 0.47368421052631576\n",
      "Epoch 13, Loss: 1.0186992843945821, Accuracy: 0.43037974683544306, Learning Rate: 0.001\n",
      "Validation Accuracy: 0.47368421052631576\n",
      "Epoch 14, Loss: 1.020946697394053, Accuracy: 0.4029535864978903, Learning Rate: 0.001\n",
      "Validation Accuracy: 0.47368421052631576\n",
      "Epoch 15, Loss: 1.0202828685442606, Accuracy: 0.39662447257383965, Learning Rate: 0.001\n",
      "Validation Accuracy: 0.47368421052631576\n",
      "Epoch 16, Loss: 1.0247503797213235, Accuracy: 0.43037974683544306, Learning Rate: 0.001\n",
      "Validation Accuracy: 0.47368421052631576\n",
      "Epoch 17, Loss: 1.0230711460113526, Accuracy: 0.43037974683544306, Learning Rate: 0.001\n",
      "Validation Accuracy: 0.47368421052631576\n",
      "Epoch 18, Loss: 1.0221955140431722, Accuracy: 0.41561181434599154, Learning Rate: 0.001\n",
      "Validation Accuracy: 0.35789473684210527\n",
      "Epoch 19, Loss: 1.0203678846359252, Accuracy: 0.41350210970464135, Learning Rate: 0.001\n",
      "Validation Accuracy: 0.47368421052631576\n",
      "Epoch 20, Loss: 1.0196080843607584, Accuracy: 0.3818565400843882, Learning Rate: 0.001\n",
      "Validation Accuracy: 0.35789473684210527\n",
      "Epoch 21, Loss: 1.0196446816126505, Accuracy: 0.4409282700421941, Learning Rate: 0.001\n",
      "Validation Accuracy: 0.47368421052631576\n",
      "Epoch 22, Loss: 1.0173447966575622, Accuracy: 0.43037974683544306, Learning Rate: 0.001\n",
      "Validation Accuracy: 0.47368421052631576\n",
      "Epoch 23, Loss: 1.0195825378100076, Accuracy: 0.3881856540084388, Learning Rate: 0.001\n",
      "Validation Accuracy: 0.47368421052631576\n",
      "Epoch 24, Loss: 1.017536457379659, Accuracy: 0.43037974683544306, Learning Rate: 0.001\n",
      "Validation Accuracy: 0.47368421052631576\n",
      "Epoch 25, Loss: 1.0226669708887737, Accuracy: 0.43037974683544306, Learning Rate: 0.001\n",
      "Validation Accuracy: 0.47368421052631576\n",
      "Epoch 26, Loss: 1.0194517294565837, Accuracy: 0.3924050632911392, Learning Rate: 0.001\n",
      "Validation Accuracy: 0.47368421052631576\n",
      "Epoch 27, Loss: 1.016821316878001, Accuracy: 0.43037974683544306, Learning Rate: 0.001\n",
      "Validation Accuracy: 0.47368421052631576\n",
      "Epoch 28, Loss: 1.0173994302749634, Accuracy: 0.43037974683544306, Learning Rate: 0.001\n",
      "Validation Accuracy: 0.47368421052631576\n",
      "Epoch 29, Loss: 1.0184611479441326, Accuracy: 0.43037974683544306, Learning Rate: 0.001\n",
      "Validation Accuracy: 0.47368421052631576\n",
      "Epoch 30, Loss: 1.0195262114206949, Accuracy: 0.43037974683544306, Learning Rate: 0.001\n",
      "Validation Accuracy: 0.47368421052631576\n"
     ]
    }
   ],
   "source": [
    "import torch\n",
    "import torch.nn as nn\n",
    "import torch.optim as optim\n",
    "from sklearn.metrics import accuracy_score\n",
    "import matplotlib.pyplot as plt\n",
    "\n",
    "device = torch.device(\"cuda\" if torch.cuda.is_available() else \"cpu\")\n",
    "\n",
    "# Initialize lists to store metrics\n",
    "learning_rates = []\n",
    "train_accuracies = []\n",
    "val_accuracies = []\n",
    "\n",
    "# Define your model, loss function, and optimizer\n",
    "model = AlzheimerCNN().to(device)\n",
    "criterion = nn.CrossEntropyLoss()\n",
    "optimizer = optim.Adam(model.parameters(), lr=0.001)\n",
    "\n",
    "# Training loop\n",
    "for epoch in range(30):  # Number of epochs\n",
    "    model.train()\n",
    "    running_loss = 0.0\n",
    "    y_true = []\n",
    "    y_pred = []\n",
    "\n",
    "    for images, labels, _ in dataloader:\n",
    "        images, labels = images.to(device), labels.to(device)\n",
    "\n",
    "        # Forward pass\n",
    "        outputs = model(images)\n",
    "        loss = criterion(outputs, labels)\n",
    "\n",
    "        # Backward pass and optimization\n",
    "        optimizer.zero_grad()\n",
    "        loss.backward()\n",
    "        optimizer.step()\n",
    "\n",
    "        # Store predictions and true labels\n",
    "        _, predicted = torch.max(outputs, 1)\n",
    "        y_true.extend(labels.cpu().numpy())\n",
    "        y_pred.extend(predicted.cpu().numpy())\n",
    "\n",
    "        running_loss += loss.item()\n",
    "\n",
    "    # Calculate accuracy\n",
    "    train_accuracy = accuracy_score(y_true, y_pred)\n",
    "    train_accuracies.append(train_accuracy)\n",
    "\n",
    "    # Store learning rate\n",
    "    learning_rates.append(optimizer.param_groups[0]['lr'])\n",
    "\n",
    "    # Print metrics\n",
    "    print(f\"Epoch {epoch+1}, Loss: {running_loss/len(dataloader)}, Accuracy: {train_accuracy}, Learning Rate: {optimizer.param_groups[0]['lr']}\")\n",
    "\n",
    "    # Validation (optional)\n",
    "    model.eval()\n",
    "    val_true = []\n",
    "    val_pred = []\n",
    "    with torch.no_grad():\n",
    "        for images, labels, _ in val_dataloader:  # Assuming you have a validation DataLoader\n",
    "            images, labels = images.to(device), labels.to(device)\n",
    "            outputs = model(images)\n",
    "            _, predicted = torch.max(outputs, 1)\n",
    "            val_true.extend(labels.cpu().numpy())\n",
    "            val_pred.extend(predicted.cpu().numpy())\n",
    "\n",
    "    val_accuracy = accuracy_score(val_true, val_pred)\n",
    "    val_accuracies.append(val_accuracy)\n",
    "    print(f\"Validation Accuracy: {val_accuracy}\")"
   ]
  },
  {
   "cell_type": "code",
   "execution_count": 49,
   "metadata": {},
   "outputs": [
    {
     "data": {
      "image/png": "[encoded data removed]",
      "text/plain": [
       "<Figure size 1200x500 with 1 Axes>"
      ]
     },
     "metadata": {},
     "output_type": "display_data"
    }
   ],
   "source": [
    "# Plot Learning Rate and Accuracy\n",
    "plt.figure(figsize=(12, 5))\n",
    "\n",
    "plt.subplot(1, 2, 2)\n",
    "plt.plot(train_accuracies, label=\"Training Accuracy\")\n",
    "plt.plot(val_accuracies, label=\"Validation Accuracy\")\n",
    "plt.xlabel(\"Epoch\")\n",
    "plt.ylabel(\"Accuracy\")\n",
    "plt.title(\"Accuracy Over Epochs\")\n",
    "plt.legend()\n",
    "\n",
    "plt.tight_layout()\n",
    "plt.show()"
   ]
  },
  {
   "cell_type": "code",
   "execution_count": 50,
   "metadata": {},
   "outputs": [
    {
     "data": {
      "image/png": "[encoded data removed]",
      "text/plain": [
       "<Figure size 800x600 with 2 Axes>"
      ]
     },
     "metadata": {},
     "output_type": "display_data"
    }
   ],
   "source": [
    "from sklearn.metrics import confusion_matrix\n",
    "import seaborn as sns\n",
    "import matplotlib.pyplot as plt\n",
    "\n",
    "# Get predictions for the validation set\n",
    "model.eval()\n",
    "y_true = []\n",
    "y_pred = []\n",
    "with torch.no_grad():\n",
    "    for images, labels, _ in val_dataloader:\n",
    "        images, labels = images.to(device), labels.to(device)\n",
    "        outputs = model(images)\n",
    "        _, predicted = torch.max(outputs, 1)\n",
    "        y_true.extend(labels.cpu().numpy())\n",
    "        y_pred.extend(predicted.cpu().numpy())\n",
    "\n",
    "# Compute confusion matrix\n",
    "cm = confusion_matrix(y_true, y_pred)\n",
    "\n",
    "# Plot confusion matrix\n",
    "plt.figure(figsize=(8, 6))\n",
    "sns.heatmap(cm, annot=True, fmt=\"d\", cmap=\"Blues\", xticklabels=[\"AD\", \"MCI\", \"NC\"], yticklabels=[\"AD\", \"MCI\", \"NC\"])\n",
    "plt.xlabel(\"Predicted\")\n",
    "plt.ylabel(\"True\")\n",
    "plt.title(\"Confusion Matrix\")\n",
    "plt.show()"
   ]
  }
 ],
 "metadata": {
  "kernelspec": {
   "display_name": "venv",
   "language": "python",
   "name": "python3"
  },
  "language_info": {
   "codemirror_mode": {
    "name": "ipython",
    "version": 3
   },
   "file_extension": ".py",
   "mimetype": "text/x-python",
   "name": "python",
   "nbconvert_exporter": "python",
   "pygments_lexer": "ipython3",
   "version": "3.10.6"
  }
 },
 "nbformat": 4,
 "nbformat_minor": 2
}
