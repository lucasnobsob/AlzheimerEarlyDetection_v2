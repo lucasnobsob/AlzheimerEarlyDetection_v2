{
 "cells": [
  {
   "cell_type": "code",
   "execution_count": 1,
   "metadata": {},
   "outputs": [
    {
     "name": "stdout",
     "output_type": "stream",
     "text": [
      "Classe AD: 157 treino, 40 teste\n",
      "Classe MCI: 163 treino, 41 teste\n",
      "Classe NC: 58 treino, 15 teste\n",
      "Divisão concluída! 🚀\n"
     ]
    }
   ],
   "source": [
    "import os\n",
    "import shutil\n",
    "import random\n",
    "from glob import glob\n",
    "\n",
    "# Definir caminhos das pastas originais e das novas pastas\n",
    "base_dir = \"datasets\"\n",
    "original_dirs = [\"AD\", \"MCI\", \"NC\"]\n",
    "train_dir = os.path.join(base_dir, \"train\")\n",
    "test_dir = os.path.join(base_dir, \"test\")\n",
    "\n",
    "# Criar pastas de treino e teste\n",
    "for dataset in [train_dir, test_dir]:\n",
    "    os.makedirs(dataset, exist_ok=True)\n",
    "    for class_name in original_dirs:\n",
    "        os.makedirs(os.path.join(dataset, class_name), exist_ok=True)\n",
    "\n",
    "# Percentual para treino (80%) e teste (20%)\n",
    "train_split = 0.8  \n",
    "\n",
    "# Separar os arquivos corretamente\n",
    "for class_name in original_dirs:\n",
    "    class_path = os.path.join(base_dir, class_name)\n",
    "    \n",
    "    images = []\n",
    "    \n",
    "    for subfolder in os.listdir(class_path):\n",
    "        subfolder_path = os.path.join(class_path, subfolder)\n",
    "        if os.path.isdir(subfolder_path):  # Garantir que é uma pasta\n",
    "            # Buscar imagens e CSVs na subpasta\n",
    "            image_paths = glob(os.path.join(subfolder_path, \"*.*\"))\n",
    "            \n",
    "            for file_path in image_paths:\n",
    "                if file_path.lower().endswith(('.jpg', '.jpeg', '.png')):\n",
    "                    img_name = os.path.basename(file_path)\n",
    "                    new_name = f\"{subfolder}_{img_name}\"  # Exemplo: \"01f_IM00001.jpg\"\n",
    "                    images.append((file_path, new_name))\n",
    "                    \n",
    "                    # Verificar e adicionar o caminho do CSV correspondente\n",
    "                    csv_path = file_path.rsplit('.', 1)[0] + '.csv'  # Substitui extensão para .csv\n",
    "                    if os.path.exists(csv_path):\n",
    "                        # Renomear o CSV com o prefixo da subpasta para evitar sobrescrita\n",
    "                        new_csv_name = f\"{subfolder}_{os.path.basename(csv_path)}\"\n",
    "                        images[-1] = images[-1] + (csv_path, new_csv_name)  # Adiciona o caminho do CSV e o novo nome\n",
    "\n",
    "    if not images:\n",
    "        print(f\"Aviso: Nenhuma imagem encontrada na classe {class_name}.\")\n",
    "        continue\n",
    "\n",
    "    random.shuffle(images)  # Embaralhar para evitar viés na separação\n",
    "\n",
    "    train_size = int(len(images) * train_split)\n",
    "    train_images = images[:train_size]\n",
    "    test_images = images[train_size:]\n",
    "\n",
    "    # Copiar as imagens e seus CSVs correspondentes para as novas pastas\n",
    "    for img_path, new_name, csv_path, new_csv_name in train_images:\n",
    "        shutil.copy(img_path, os.path.join(train_dir, class_name, new_name))  # Copiar imagem\n",
    "        shutil.copy(csv_path, os.path.join(train_dir, class_name, new_csv_name))  # Copiar CSV renomeado\n",
    "\n",
    "    for img_path, new_name, csv_path, new_csv_name in test_images:\n",
    "        shutil.copy(img_path, os.path.join(test_dir, class_name, new_name))  # Copiar imagem\n",
    "        shutil.copy(csv_path, os.path.join(test_dir, class_name, new_csv_name))  # Copiar CSV renomeado\n",
    "\n",
    "    print(f\"Classe {class_name}: {len(train_images)} treino, {len(test_images)} teste\")\n",
    "\n",
    "print(\"Divisão concluída! 🚀\")\n"
   ]
  }
 ],
 "metadata": {
  "kernelspec": {
   "display_name": "Python 3",
   "language": "python",
   "name": "python3"
  },
  "language_info": {
   "codemirror_mode": {
    "name": "ipython",
    "version": 3
   },
   "file_extension": ".py",
   "mimetype": "text/x-python",
   "name": "python",
   "nbconvert_exporter": "python",
   "pygments_lexer": "ipython3",
   "version": "3.10.6"
  }
 },
 "nbformat": 4,
 "nbformat_minor": 2
}
